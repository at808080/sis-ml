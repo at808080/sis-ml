{
 "cells": [
  {
   "cell_type": "code",
   "execution_count": 116,
   "metadata": {},
   "outputs": [],
   "source": [
    "import pandas as pd\n",
    "from surprise import Dataset, Reader, KNNBasic\n",
    "from surprise.model_selection import train_test_split\n",
    "from surprise import accuracy\n",
    "from surprise import SVD\n",
    "\n",
    "# Load sample data from CSV files\n",
    "meals_df = pd.read_csv('meals.csv')\n",
    "users_df = pd.read_csv('users.csv')\n",
    "ratings_df = pd.read_csv('ratings.csv')"
   ]
  },
  {
   "cell_type": "markdown",
   "metadata": {},
   "source": [
    "# Collaborative based filtering\n",
    "This approach just uses ratings data"
   ]
  },
  {
   "cell_type": "code",
   "execution_count": 117,
   "metadata": {},
   "outputs": [
    {
     "name": "stdout",
     "output_type": "stream",
     "text": [
      "Computing the msd similarity matrix...\n",
      "Done computing similarity matrix.\n",
      "Computing the msd similarity matrix...\n",
      "Done computing similarity matrix.\n"
     ]
    },
    {
     "data": {
      "text/plain": [
       "<surprise.prediction_algorithms.matrix_factorization.SVD at 0x21c70ffd250>"
      ]
     },
     "execution_count": 117,
     "metadata": {},
     "output_type": "execute_result"
    }
   ],
   "source": [
    "# Surprise Reader object specifies rating scale\n",
    "reader = Reader(rating_scale=(1, 5))\n",
    "\n",
    "# Load the data into the Surprise Dataset format\n",
    "data = Dataset.load_from_df(ratings_df[['user_id', 'meal_id', 'rating']], reader)\n",
    "\n",
    "# Split data into train, test sets\n",
    "trainset, testset = train_test_split(data, test_size=0.25)\n",
    "\n",
    "# Train user-user collaborative filtering model - in this case KNNBasic)\n",
    "user_user_algo = KNNBasic(sim_options={'user_based': True})\n",
    "user_user_algo.fit(trainset)\n",
    "\n",
    "# Train item-item collaborative filtering model - in this case KNNBasic\n",
    "item_item_algo = KNNBasic(sim_options={'user_based': False})\n",
    "item_item_algo.fit(trainset)\n",
    "\n",
    "\n",
    "# Train a user-item collaborative filtering model - in this case SVD\n",
    "user_item_algo = SVD()\n",
    "user_item_algo.fit(trainset) "
   ]
  },
  {
   "cell_type": "markdown",
   "metadata": {},
   "source": [
    "Hybrid approach will use recommendations from both user-user and item-item collaborative filters, and weight them to come up with final recommendation."
   ]
  },
  {
   "cell_type": "code",
   "execution_count": 118,
   "metadata": {},
   "outputs": [],
   "source": [
    "num_meals = len(meals_df)\n",
    "num_users = len(users_df)\n",
    "num_ratings = len(ratings_df)\n",
    "\n",
    "def user_item_collaborative_filtering(user_id, num_recommendations=5):\n",
    "    # Get list of all meal IDs\n",
    "    all_meal_ids = [meal_id for meal_id in range(1, num_meals + 1)]\n",
    "    print(\"all_meal_ids\", all_meal_ids)\n",
    "    # Remove meal IDs that the user has already rated\n",
    "    user_rated_meals = ratings_df[ratings_df['user_id'] == user_id]['meal_id'].tolist()\n",
    "    remaining_meal_ids = list(set(all_meal_ids) - set(user_rated_meals))\n",
    "    print(\"user_rated_meals\", user_rated_meals)\n",
    "    print(\"remaining_meal_ids\", remaining_meal_ids)\n",
    "    # Predict ratings for remaining meals\n",
    "    predictions = [(meal_id, user_item_algo.predict(user_id, meal_id).est) for meal_id in remaining_meal_ids]\n",
    "    print(\"predictions\", predictions)\n",
    "    # Sort predictions by estimated rating in descending order\n",
    "    sorted_predictions = sorted(predictions, key=lambda x: x[1], reverse=True)\n",
    "    print(\"sorted_predictions\", sorted_predictions)\n",
    "    # Get the top N recommendations\n",
    "    top_recommendations = [meal_id for meal_id, _ in sorted_predictions[:num_recommendations]]\n",
    "    print(\"top_recommendations\", top_recommendations)\n",
    "    return top_recommendations\n"
   ]
  },
  {
   "cell_type": "code",
   "execution_count": 119,
   "metadata": {},
   "outputs": [
    {
     "name": "stdout",
     "output_type": "stream",
     "text": [
      "all_meal_ids [1, 2, 3, 4, 5, 6, 7, 8, 9, 10, 11, 12, 13, 14, 15, 16, 17, 18, 19, 20, 21, 22, 23, 24, 25, 26, 27, 28, 29, 30, 31, 32, 33, 34, 35, 36, 37, 38, 39, 40, 41, 42, 43, 44, 45, 46, 47, 48, 49, 50]\n",
      "user_rated_meals [1, 2, 3, 4, 5, 6, 7, 8, 9, 10, 11, 12, 13, 14, 15, 16, 17, 18, 19, 20, 21, 22, 23, 24, 25, 26, 27, 28, 29, 30, 31, 32, 33, 34, 35, 36, 37, 38, 39, 40, 41, 42, 43, 44, 45, 46, 47, 48, 49, 50]\n",
      "remaining_meal_ids []\n",
      "predictions []\n",
      "sorted_predictions []\n",
      "top_recommendations []\n",
      "Meal: Spaghetti Bolognese (Meal ID: 1), Rating: 1\n",
      "Meal: Chicken Caesar Salad (Meal ID: 2), Rating: 3\n",
      "Meal: Pepperoni Pizza (Meal ID: 3), Rating: 1\n",
      "Meal: Sushi Platter (Meal ID: 4), Rating: 1\n",
      "Meal: Vegetable Stir-Fry (Meal ID: 5), Rating: 4\n",
      "Meal: Grilled Salmon (Meal ID: 6), Rating: 2\n",
      "Meal: Margarita Pizza (Meal ID: 7), Rating: 1\n",
      "Meal: Beef Tacos (Meal ID: 8), Rating: 4\n",
      "Meal: Chicken Alfredo (Meal ID: 9), Rating: 4\n",
      "Meal: Caesar Salad (Meal ID: 10), Rating: 3\n",
      "Meal: Chicken Teriyaki Stir-Fry (Meal ID: 11), Rating: 2\n",
      "Meal: Beef and Broccoli (Meal ID: 12), Rating: 5\n",
      "Meal: Spinach and Feta Stuffed Chicken (Meal ID: 13), Rating: 5\n",
      "Meal: Vegetable Curry (Meal ID: 14), Rating: 4\n",
      "Meal: Shrimp Scampi (Meal ID: 15), Rating: 2\n",
      "Meal: Hawaiian Pizza (Meal ID: 16), Rating: 1\n",
      "Meal: Steak Fajitas (Meal ID: 17), Rating: 5\n",
      "Meal: Lasagna (Meal ID: 18), Rating: 2\n",
      "Meal: Cobb Salad (Meal ID: 19), Rating: 3\n",
      "Meal: Tuna Sushi Roll (Meal ID: 20), Rating: 2\n",
      "Meal: Crispy Tofu Stir-Fry (Meal ID: 21), Rating: 4\n",
      "Meal: Grilled Shrimp (Meal ID: 22), Rating: 3\n",
      "Meal: Supreme Pizza (Meal ID: 23), Rating: 2\n",
      "Meal: Chicken Enchiladas (Meal ID: 24), Rating: 1\n",
      "Meal: Spicy Ramen (Meal ID: 25), Rating: 2\n",
      "Meal: Honey Glazed Chicken (Meal ID: 26), Rating: 4\n",
      "Meal: Eggplant Parmesan (Meal ID: 27), Rating: 1\n",
      "Meal: Salmon Teriyaki (Meal ID: 28), Rating: 2\n",
      "Meal: Veggie Quesadillas (Meal ID: 29), Rating: 5\n",
      "Meal: Penne alla Vodka (Meal ID: 30), Rating: 1\n",
      "Meal: Greek Salad (Meal ID: 31), Rating: 1\n",
      "Meal: California Roll (Meal ID: 32), Rating: 3\n",
      "Meal: Pad Thai (Meal ID: 33), Rating: 3\n",
      "Meal: Barbecue Ribs (Meal ID: 34), Rating: 1\n",
      "Meal: Chicken Tikka Masala (Meal ID: 35), Rating: 3\n",
      "Meal: Beef Burrito (Meal ID: 36), Rating: 5\n",
      "Meal: Teriyaki Salmon (Meal ID: 37), Rating: 2\n",
      "Meal: Chicken Parmesan (Meal ID: 38), Rating: 3\n",
      "Meal: Vegetable Lasagna (Meal ID: 39), Rating: 1\n",
      "Meal: Shrimp Scampi Pasta (Meal ID: 40), Rating: 1\n",
      "Meal: Pho (Meal ID: 41), Rating: 4\n",
      "Meal: BBQ Chicken Pizza (Meal ID: 42), Rating: 1\n",
      "Meal: Chimichangas (Meal ID: 43), Rating: 5\n",
      "Meal: Beef and Mushroom Stir-Fry (Meal ID: 44), Rating: 5\n",
      "Meal: Spinach and Artichoke Dip (Meal ID: 45), Rating: 1\n",
      "Meal: Crispy Calamari (Meal ID: 46), Rating: 2\n",
      "Meal: Cajun Jambalaya (Meal ID: 47), Rating: 2\n",
      "Meal: Lemon Garlic Shrimp (Meal ID: 48), Rating: 5\n",
      "Meal: Chicken Fajita Bowl (Meal ID: 49), Rating: 5\n",
      "Meal: Chicken and Broccoli Alfredo (Meal ID: 50), Rating: 3\n",
      "\n",
      "User-User Collaborative Filtering Recommendations: [30, 79, 72, 78, 27]\n",
      "\n",
      "Item-Item Collaborative Filtering Recommendations: [23, 44, 20, 37, 10]\n",
      "\n",
      "User-Item Collaborative Filtering Recommendations: []\n"
     ]
    }
   ],
   "source": [
    "\n",
    "# User ID and number of recommendations\n",
    "user_id = 48\n",
    "num_recommendations = 5\n",
    "\n",
    "#print(\"hyb \", user_id, users_df.loc[user_id, 'user_name'], num_recommendations)\n",
    "user_user_recs = user_user_algo.get_neighbors(user_id, k=num_recommendations)\n",
    "\n",
    "# Item-Item Collaborative Filtering Recommendations\n",
    "item_item_recs = item_item_algo.get_neighbors(user_id, k=num_recommendations)\n",
    "\n",
    "# User-Item Collaborative Filtering Recommendations\n",
    "user_item_recs = user_item_collaborative_filtering(user_id, num_recommendations)\n",
    "\n",
    "# Filter the ratings_df DataFrame to get reviewed meals for the user\n",
    "user_reviews = ratings_df[ratings_df['user_id'] == user_id]\n",
    "\n",
    "# Get the list of meal IDs reviewed by the user\n",
    "reviewed_meals = user_reviews['meal_id'].tolist()\n",
    "\n",
    "\n",
    "\n",
    "\n",
    "#Print original meals reviewed by the user and their ratings\n",
    "for meal_id in reviewed_meals:\n",
    "    meal_name = meals_df[(meals_df['meal_id'] == meal_id)][\"meal_name\"].values[0] # meals_df.loc[meal_id, 'meal_name']\n",
    "    \n",
    "    user_rating = ratings_df[(ratings_df['user_id'] == user_id) & (ratings_df['meal_id'] == meal_id)]['rating'].values[0]\n",
    "    \n",
    "    print(f\"Meal: {meal_name} (Meal ID: {meal_id}), Rating: {user_rating}\")\n",
    "\n",
    "# Print User-User Collaborative Filtering Recommendations\n",
    "print(\"\\nUser-User Collaborative Filtering Recommendations:\", user_user_recs)\n",
    "\n",
    "# Print Item-Item Collaborative Filtering Recommendations\n",
    "print(\"\\nItem-Item Collaborative Filtering Recommendations:\", item_item_recs)\n",
    "\n",
    "# Print User-Item Collaborative Filtering Recommendations\n",
    "print(\"\\nUser-Item Collaborative Filtering Recommendations:\", user_item_recs)\n"
   ]
  },
  {
   "cell_type": "markdown",
   "metadata": {},
   "source": [
    "#Content Based Filtering"
   ]
  },
  {
   "cell_type": "code",
   "execution_count": 120,
   "metadata": {},
   "outputs": [
    {
     "name": "stdout",
     "output_type": "stream",
     "text": [
      "Top 5 Similar Meals to Meal ID 1\n",
      "    meal_id       meal_name category   cuisine temperature\n",
      "9        10    Caesar Salad    Salad  American        cold\n",
      "18       19      Cobb Salad    Salad  American        cold\n",
      "30       31     Greek Salad    Salad     Greek        cold\n",
      "3         4   Sushi Platter    Sushi  Japanese        cold\n",
      "5         6  Grilled Salmon  Seafood  American         hot\n"
     ]
    }
   ],
   "source": [
    "from sklearn.feature_extraction.text import CountVectorizer\n",
    "from sklearn.metrics.pairwise import cosine_similarity\n",
    "\n",
    "# Load data\n",
    "meals_df = pd.read_csv('meals.csv')\n",
    "users_df = pd.read_csv('users.csv')\n",
    "ratings_df = pd.read_csv('ratings.csv')\n",
    "\n",
    "# Merge user ratings with meal information\n",
    "user_meal_ratings = pd.merge(ratings_df, meals_df, on='meal_id')\n",
    "\n",
    "# Select relevant columns for content-based filtering\n",
    "content_cols = ['meal_id', 'meal_name', 'category', 'calories', 'protein', 'fat', 'carbohydrates', 'cuisine', 'temperature']\n",
    "\n",
    "# Fill missing values in categorical columns\n",
    "meals_df['cuisine'].fillna('Unknown', inplace=True)\n",
    "meals_df['temperature'].fillna('Unknown', inplace=True)\n",
    "\n",
    "# Convert categorical columns to text\n",
    "for col in ['category', 'cuisine', 'temperature']:\n",
    "    meals_df[col] = meals_df[col].astype(str)\n",
    "\n",
    "# Create a bag of words (BoW) representation for text-based columns\n",
    "vectorizer = CountVectorizer()\n",
    "text_features = vectorizer.fit_transform(meals_df['category'] + ' ' + meals_df['cuisine'] + ' ' + meals_df['temperature'])\n",
    "\n",
    "# Calculate cosine similarity for text-based features\n",
    "cosine_sim = cosine_similarity(text_features, text_features)\n",
    "\n",
    "# Helper function to get top N similar meals\n",
    "def get_top_similar_meals(meal_id, cosine_sim, n=10):\n",
    "    sim_scores = list(enumerate(cosine_sim[meal_id]))\n",
    "    sim_scores = sorted(sim_scores, key=lambda x: x[1], reverse=True)\n",
    "    sim_scores = sim_scores[1:n+1]\n",
    "    meal_indices = [i[0] for i in sim_scores]\n",
    "    return meal_indices\n",
    "\n",
    "# Example: Get top 5 similar meals to a given meal_id (change as needed)\n",
    "meal_id = 1  \n",
    "similar_meal_indices = get_top_similar_meals(meal_id, cosine_sim, n=5)\n",
    "\n",
    "similar_meals = meals_df.iloc[similar_meal_indices]\n",
    "print(\"Top 5 Similar Meals to Meal ID\", meal_id)\n",
    "print(similar_meals[['meal_id', 'meal_name', 'category', 'cuisine', 'temperature']])\n"
   ]
  }
 ],
 "metadata": {
  "kernelspec": {
   "display_name": "Python 3",
   "language": "python",
   "name": "python3"
  },
  "language_info": {
   "codemirror_mode": {
    "name": "ipython",
    "version": 3
   },
   "file_extension": ".py",
   "mimetype": "text/x-python",
   "name": "python",
   "nbconvert_exporter": "python",
   "pygments_lexer": "ipython3",
   "version": "3.11.4"
  },
  "orig_nbformat": 4
 },
 "nbformat": 4,
 "nbformat_minor": 2
}
